{
 "cells": [
  {
   "cell_type": "markdown",
   "metadata": {},
   "source": [
    "## Short example how to use pretrained models to perform Causal Discovery"
   ]
  },
  {
   "cell_type": "code",
   "execution_count": 25,
   "metadata": {},
   "outputs": [],
   "source": [
    "import pandas as pd\n",
    "import torch\n",
    "import torch.multiprocessing\n",
    "from helpers.tools import load_river_data\n",
    "from helpers.tools import lagged_batch_corr\n",
    "from model.model_wrapper import Architecture_PL\n",
    "import torchmetrics"
   ]
  },
  {
   "cell_type": "code",
   "execution_count": 60,
   "metadata": {},
   "outputs": [],
   "source": [
    "# Example data (Rivers)\n",
    "# Download it according to readme.md\n",
    "data = load_river_data()\n",
    "\n",
    "\n",
    "# Alternatively you can use random data to just check the input/output relation\n",
    "#data = (torch.rand((1,600,3)), torch.zeros((1,3,3)))"
   ]
  },
  {
   "cell_type": "code",
   "execution_count": 61,
   "metadata": {},
   "outputs": [],
   "source": [
    "# Pretrained weights that we selected from experiments with synthetic data.\n",
    "path = \"pretrained_weights\"\n",
    "mlp = path + \"/mlp.ckpt\"\n",
    "uni = path + \"/unidirectional.ckpt\"\n",
    "bi = path + \"/bidirectional.ckpt\"\n",
    "conv =path + \"/convMixer.ckpt\"\n",
    "trf = path + \"/transformer.ckpt\"\n",
    "best = [mlp, uni, bi, conv, trf]"
   ]
  },
  {
   "cell_type": "code",
   "execution_count": 62,
   "metadata": {},
   "outputs": [],
   "source": [
    "# Threshold free metric\n",
    "auroc = torchmetrics.classification.BinaryAUROC()"
   ]
  },
  {
   "cell_type": "code",
   "execution_count": null,
   "metadata": {},
   "outputs": [],
   "source": [
    "\n",
    "# As the networks are trained with 5 variables as input we pad samples with less than 5 variables.\n",
    "X = torch.concat(\n",
    "    [data[0][0, :, :], torch.normal(0, 0.1, (len(data[0][0]), 2))], axis=1)\n",
    "X = X.unsqueeze(0)\n",
    "\n",
    "# For some models, lagged batch correlation is required (as an input. Generate it here.)\n",
    "corr = lagged_batch_corr(X, 3)\n",
    "\n",
    "# Networks only take a maximum of 600. Here we simply take the first 600 steps. \n",
    "# Alternatively one could also attempt to weigh multiple windows of the same time series.\n",
    "X = X[:,:600,:]"
   ]
  },
  {
   "cell_type": "code",
   "execution_count": 64,
   "metadata": {},
   "outputs": [],
   "source": [
    "preds = []\n",
    "for x in best:\n",
    "    # Load specific model from checkpoint\n",
    "    model = Architecture_PL.load_from_checkpoint(x)\n",
    "    M = model.model\n",
    "    M = M.to(\"cpu\")\n",
    "    M = M.eval()\n",
    "    # Run model and transform to proba:\n",
    "    Y = M((X, corr))\n",
    "    Y = torch.sigmoid(Y)\n",
    "    # Remove the predictions for padded time series. \n",
    "    Y = Y[0, :3, :3]\n",
    "    # As the labels in this case do not specify a lag, we can also reduce the lag dimension.\n",
    "    Y = Y[:, :,-1]\n",
    "    preds.append(Y)"
   ]
  },
  {
   "cell_type": "code",
   "execution_count": 66,
   "metadata": {},
   "outputs": [
    {
     "name": "stdout",
     "output_type": "stream",
     "text": [
      "tensor([[ True,  True, False],\n",
      "        [ True,  True,  True],\n",
      "        [False,  True,  True]])\n"
     ]
    },
    {
     "data": {
      "text/plain": [
       "tensor(1.0000)"
      ]
     },
     "execution_count": 66,
     "metadata": {},
     "output_type": "execute_result"
    }
   ],
   "source": [
    "# Now we can take the output as probabilities for a certrain link to exist. \n",
    "print(preds[1] > 0.05)\n",
    "\n",
    "# Or Calculate AUROC\n",
    "auroc(Y, data[1])"
   ]
  }
 ],
 "metadata": {
  "kernelspec": {
   "display_name": "cp_check",
   "language": "python",
   "name": "python3"
  },
  "language_info": {
   "codemirror_mode": {
    "name": "ipython",
    "version": 3
   },
   "file_extension": ".py",
   "mimetype": "text/x-python",
   "name": "python",
   "nbconvert_exporter": "python",
   "pygments_lexer": "ipython3",
   "version": "3.9.16"
  }
 },
 "nbformat": 4,
 "nbformat_minor": 2
}
